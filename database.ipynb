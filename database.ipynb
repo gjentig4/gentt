{
 "cells": [
  {
   "cell_type": "code",
   "execution_count": 22,
   "metadata": {},
   "outputs": [],
   "source": [
    "import sqlite3\n",
    "\n",
    "\n"
   ]
  },
  {
   "cell_type": "markdown",
   "metadata": {},
   "source": [
    "### View db"
   ]
  },
  {
   "cell_type": "code",
   "execution_count": 49,
   "metadata": {},
   "outputs": [
    {
     "name": "stdout",
     "output_type": "stream",
     "text": [
      "(4, 50.0, 80.0, '28x25', 'vb', 'Untitled Artwork', 'Acrylic on Canvas', None)\n",
      "(5, 50.0, 70.0, '35x25', 'vb', 'Panorama', 'Acrylic on Wood', None)\n",
      "(6, 1200.0, 1700.0, '80x60', 'vb', 'Composition', 'Acrylic on Canvas', None)\n",
      "(7, 100.0, 100.0, '24x18', 'vb', 'Act', 'Acrylic on Paper', None)\n",
      "(8, 100.0, 100.0, '40x30', 'vb', 'Composition', 'Acrylic on Paper', None)\n",
      "(9, 100.0, 100.0, '40x30', 'vb', 'Panorama', 'Acrylic on Paper', None)\n",
      "(10, 50.0, 50.0, '28x25', 'vb', 'Untitled Artwork', 'Acrylic on Wood', None)\n",
      "(11, 350.0, 450.0, '50x40', 'vb', 'Act', 'Mixed Technique', None)\n",
      "(12, 300.0, 350.0, '70x50', 'vb', 'Composition', 'Mixed Technique on Wood', None)\n",
      "(13, 500.0, 650.0, '70x55', 'vb', 'Composition', 'Mixed Technique on Canvas', None)\n",
      "(14, 800.0, 1000.0, '80x60', 'vb', 'Composition', 'Acrylic on Paper', None)\n",
      "(17, 900.0, 1000.0, '90x70', 'vb', 'Act', 'Acrylic on Canvas', None)\n",
      "(18, 1200.0, 2000.0, '90x70', 'vb', 'Untitled Artwork', 'Acrylic on Canvas', None)\n",
      "(19, 1000.0, 1200.0, '90x70', 'vb', 'Act', 'Acrylic on Canvas', None)\n",
      "(20, 1500.0, 1800.0, '90x70', 'vb', 'Panorama', 'Acrylic on Canvas', None)\n",
      "(21, 500.0, 600.0, '100x80', 'vb', 'The Kiss', 'Acrylic on Canvas', None)\n",
      "(22, 700.0, 800.0, '100x80', 'vb', 'Untitled Artwork', 'Mixed Technique', None)\n",
      "(23, 100.0, 100.0, '34x28', 'vb', 'Panorama', 'Acrylic on Paper', None)\n",
      "(24, 120.0, 150.0, '24x27', 'vb', 'Panorama', 'Acrylic on Wood', None)\n",
      "(25, 120.0, 300.0, '30x30', 'vb', 'Panorama', 'Acrylic on Wood', None)\n",
      "(26, 130.0, 130.0, '30x30', 'vb', 'Composition', 'Acrylic on Wood', None)\n",
      "(27, 140.0, 150.0, '30x30', 'vb', 'Composition', 'Acrylic on Wood', None)\n",
      "(28, 140.0, 150.0, '30x30', 'vb', 'Panorama', 'Acrylic on Wood', None)\n",
      "(29, 140.0, 150.0, '30x30', 'vb', 'Panorama', 'Acrylic on Wood', None)\n",
      "(30, 150.0, 150.0, '30x30', 'vb', 'Act', 'Acrylic on Wood', None)\n",
      "(31, 150.0, 150.0, '24x27', 'vb', 'Panorama', 'Acrylic on Wood', None)\n",
      "(32, 150.0, 200.0, '30x30', 'vb', 'Panorama', 'Oil on Canvas', None)\n",
      "(33, 170.0, 250.0, '30x30', 'vb', 'Composition', 'Acrylic on Wood', None)\n",
      "(34, 170.0, 200.0, '30x30', 'vb', 'Composition', 'Acrylic on Wood', None)\n",
      "(35, 170.0, 250.0, '50x40', 'vb', 'Composition', 'Acrylic on Wood', None)\n",
      "(36, 180.0, 180.0, '27x33', 'vb', 'Composition', 'Acrylic on Paper', None)\n",
      "(37, 180.0, 180.0, '30x23', 'vb', 'Composition', 'Acrylic on Paper', None)\n",
      "(38, 180.0, 180.0, '30x24', 'vb', 'Composition', 'Acrylic on Paper', None)\n",
      "(39, 180.0, 180.0, '41x29', 'vb', 'Composition', 'Acrylic on Paper', None)\n",
      "(40, 180.0, 300.0, '30x30', 'vb', 'Waiting', 'Acrylic on Wood', None)\n",
      "(41, 700.0, 1000.0, '100x80', 'vb', 'Act', 'Acrylic on Canvas', None)\n",
      "(43, 1200.0, 1500.0, '50x70', 'vb', 'Composition', 'Acrylic on Canvas', None)\n"
     ]
    }
   ],
   "source": [
    "# Establish a connection to the SQLite database\n",
    "conn = sqlite3.connect('gallery.db')\n",
    "\n",
    "# Create a cursor object using the cursor() method\n",
    "cursor = conn.cursor()\n",
    "\n",
    "# Execute a query\n",
    "cursor.execute(\"SELECT * FROM artworks\")\n",
    "\n",
    "# Fetch all rows\n",
    "rows = cursor.fetchall()\n",
    "\n",
    "# Iterate and print each row\n",
    "for row in rows:\n",
    "    print(row)\n",
    "\n",
    "# Close the connection\n",
    "conn.close()\n"
   ]
  },
  {
   "cell_type": "markdown",
   "metadata": {},
   "source": [
    "#### Insert new row"
   ]
  },
  {
   "cell_type": "code",
   "execution_count": 48,
   "metadata": {},
   "outputs": [],
   "source": [
    "# Connect to the database\n",
    "conn = sqlite3.connect('gallery.db')\n",
    "\n",
    "# Data to insert\n",
    "data = (1200, 1500,'50x70','vb','Composition', 'Acrylic on Canvas', None)\n",
    "\n",
    "#data = [\n",
    "\n",
    "    # (100, 100,'34x28','vb','Panorama', 'Acrylic on Paper', None),\n",
    "    # (120, 150,'24x27','vb','Panorama', 'Acrylic on Wood', None),\n",
    "    # (120, 300,'30x30','vb','Panorama', 'Acrylic on Wood', None),\n",
    "    # (130, 130,'30x30','vb','Composition', 'Acrylic on Wood', None),\n",
    "    # (140, 150,'30x30','vb','Composition', 'Acrylic on Wood', None),\n",
    "    # (140, 150,'30x30','vb','Panorama', 'Acrylic on Wood', None),\n",
    "    # (140, 150,'30x30','vb','Panorama', 'Acrylic on Wood', None),\n",
    "    # (150, 150,'30x30','vb','Act', 'Acrylic on Wood', None),\n",
    "    # (150, 150,'24x27','vb','Panorama', 'Acrylic on Wood', None),\n",
    "    # (150, 200,'30x30','vb','Panorama', 'Oil on Canvas', None),\n",
    "    # (170, 250,'30x30','vb','Composition', 'Acrylic on Wood', None),\n",
    "    # (170, 200,'30x30','vb','Composition', 'Acrylic on Wood', None),\n",
    "    # (170, 250,'50x40','vb','Composition', 'Acrylic on Wood', None),\n",
    "    # (180, 180,'27x33','vb','Composition', 'Acrylic on Paper', None),\n",
    "    # (180, 180,'30x23','vb','Composition', 'Acrylic on Paper', None),\n",
    "    # (180, 180,'30x24','vb','Composition', 'Acrylic on Paper', None),\n",
    "    # (180, 180,'41x29','vb','Composition', 'Acrylic on Paper', None),\n",
    "    # (180, 300,'30x30','vb','Waiting', 'Acrylic on Wood', None),\n",
    "    # (700,1000,'100x80','vb','Act', 'Acrylic on Canvas', None),\n",
    "    # (800,2000,'41x29','vb','Composition', 'Acrylic on Canvas', None),\n",
    "\n",
    "\n",
    "#]\n",
    "\n",
    "\n",
    "# Insert the data into the database\n",
    "cursor = conn.cursor()\n",
    "cursor.execute(\"INSERT INTO artworks (ask, price, size, artist, name, technique, description) VALUES (?,?,?,?,?,?,?)\", data)\n",
    "conn.commit()\n",
    "\n",
    "\n",
    "\n",
    "# Close the connection\n",
    "conn.close()\n"
   ]
  },
  {
   "cell_type": "markdown",
   "metadata": {},
   "source": [
    "#### Delete row based on ID"
   ]
  },
  {
   "cell_type": "code",
   "execution_count": 45,
   "metadata": {},
   "outputs": [],
   "source": [
    "import sqlite3\n",
    "\n",
    "# Connect to the database\n",
    "conn = sqlite3.connect('gallery.db')\n",
    "\n",
    "# ID of the artwork to delete\n",
    "artwork_id = 42 # Replace with the ID of the artwork you want to delete\n",
    "\n",
    "# Delete the artwork from the database\n",
    "cursor = conn.cursor()\n",
    "cursor.execute(\"DELETE FROM artworks WHERE id = ?\", (artwork_id,))\n",
    "conn.commit()\n",
    "\n",
    "conn.close()\n"
   ]
  },
  {
   "cell_type": "code",
   "execution_count": 38,
   "metadata": {},
   "outputs": [],
   "source": [
    "import sqlite3\n",
    "\n",
    "# Connect to the database\n",
    "conn = sqlite3.connect('gallery.db')\n",
    "\n",
    "# Update details\n",
    "new_price = 1000 # New price\n",
    "artwork_id = 17     # ID of the artwork to update\n",
    "\n",
    "# Update the price in the database\n",
    "cursor = conn.cursor()\n",
    "cursor.execute(\"UPDATE artworks SET price = ? WHERE id = ?\", (new_price, artwork_id))\n",
    "conn.commit()\n",
    "\n",
    "# Close the connection\n",
    "conn.close()\n"
   ]
  },
  {
   "cell_type": "code",
   "execution_count": null,
   "metadata": {},
   "outputs": [],
   "source": []
  }
 ],
 "metadata": {
  "kernelspec": {
   "display_name": "Python 3",
   "language": "python",
   "name": "python3"
  },
  "language_info": {
   "codemirror_mode": {
    "name": "ipython",
    "version": 3
   },
   "file_extension": ".py",
   "mimetype": "text/x-python",
   "name": "python",
   "nbconvert_exporter": "python",
   "pygments_lexer": "ipython3",
   "version": "3.11.2"
  }
 },
 "nbformat": 4,
 "nbformat_minor": 2
}
